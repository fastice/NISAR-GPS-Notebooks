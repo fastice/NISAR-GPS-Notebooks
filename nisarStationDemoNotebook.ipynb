{
 "cells": [
  {
   "cell_type": "markdown",
   "id": "a45ad244-a049-4a86-b316-f412bd11382f",
   "metadata": {},
   "source": [
    "# Notebook to Examine NISAR Station GPS Data\n",
    "---"
   ]
  },
  {
   "cell_type": "markdown",
   "id": "25dcc9db-7a73-4cf0-8ba1-8da5051d2d27",
   "metadata": {},
   "source": [
    "This demonstrates and tests the capability of the nisarSation class for working with GPS data processed by JPL for NISAR cryo cal/val activities."
   ]
  },
  {
   "cell_type": "markdown",
   "id": "1bd497df-cfb4-439d-85bf-aed884ae16fc",
   "metadata": {},
   "source": [
    "## Python Setup"
   ]
  },
  {
   "cell_type": "code",
   "execution_count": 1,
   "id": "d3510dd1-6566-4d50-b0c6-8da289cc7e36",
   "metadata": {},
   "outputs": [],
   "source": [
    "%load_ext autoreload\n",
    "%autoreload 2\n",
    "import numpy as np\n",
    "import nisargps\n",
    "import matplotlib.pyplot as plt\n",
    "from datetime import timedelta, datetime\n",
    "import pyproj\n",
    "from scipy.stats import linregress\n",
    "import calendar\n",
    "import os"
   ]
  },
  {
   "cell_type": "markdown",
   "id": "4487257c-0b82-471e-855d-a8b5730c35ff",
   "metadata": {},
   "source": [
    "## Load Data"
   ]
  },
  {
   "cell_type": "markdown",
   "id": "506528f9-52ef-4042-916e-2b36a938f69f",
   "metadata": {},
   "source": [
    "Station data too big for github, so unzip if compressed after downloading."
   ]
  },
  {
   "cell_type": "code",
   "execution_count": 2,
   "id": "ce20aa09-3936-4f48-a173-eb90b048253a",
   "metadata": {},
   "outputs": [
    {
     "name": "stdout",
     "output_type": "stream",
     "text": [
      "L2-SCI-667-September24ST.ipynb\tnisarCalValDBGPSDemo-Greenland.ipynb  README.md\n",
      "LORG\t\t\t\tnisarCalValDBGPSDemo.ipynb\n",
      "LORG.tide.2019\t\t\tnisarStationDemoNotebook.ipynb\n"
     ]
    }
   ],
   "source": [
    "!ls"
   ]
  },
  {
   "cell_type": "code",
   "execution_count": 3,
   "id": "6f63452c-8776-45f5-a942-cfe36e568883",
   "metadata": {},
   "outputs": [],
   "source": [
    "if os.path.exists('LORG/wholeTimeSeriesLLH.noLoad.decYr.txt.gz'):\n",
    "    !gunzip 'LORG/wholeTimeSeriesLLH.noLoad.decYr.txt.gz'\n",
    "if os.path.exists('LORG.tide.2019.gz'):\n",
    "    !gunzip 'LORG.tide.2019.gz'"
   ]
  },
  {
   "cell_type": "markdown",
   "id": "eadeabbc-4977-4d6a-98cb-898541276491",
   "metadata": {},
   "source": [
    "Setup station id and path."
   ]
  },
  {
   "cell_type": "code",
   "execution_count": 4,
   "id": "1aee8746-90ef-4762-abb6-a0be3d5d8f4f",
   "metadata": {},
   "outputs": [
    {
     "name": "stdout",
     "output_type": "stream",
     "text": [
      "None\n",
      "Error in: nisarcryodb._initDB \n",
      "\tConfiguration file not found: calvaldb_config.ini\n",
      "Error in: nisarcryodb.stationNameToID \n",
      "\t'nisarcryodb' object has no attribute 'cursor'\n"
     ]
    }
   ],
   "source": [
    "stationPath = 'LORG/wholeTimeSeriesLLH.noLoad.decYr.txt'\n",
    "stationName = 'LORG'\n",
    "stationLORG = nisargps.nisarStation('LORG')"
   ]
  },
  {
   "cell_type": "markdown",
   "id": "ea2d8f6a-48c3-49bf-938d-3fa8fa4605a6",
   "metadata": {},
   "source": [
    "Load a sample data set. Can be accessed as `stationLORG.x` (or `.y, .z, .lat, .lon, .date, .epoch`), where `date` provides the date as `datetime` array and `epoch` provides the date as a decimal year."
   ]
  },
  {
   "cell_type": "code",
   "execution_count": 5,
   "id": "80d89b31-7963-4d5a-8190-d3cf247d1819",
   "metadata": {},
   "outputs": [
    {
     "name": "stdout",
     "output_type": "stream",
     "text": [
      "\n",
      "\u001b[1;31m*******************************************\n",
      "Error in: nisarStation.addData at line 232 \n",
      "Message: 'NoneType' object is not callable \n",
      "*******************************************\n",
      " \u001b[0m\n",
      "\n"
     ]
    }
   ],
   "source": [
    "stationLORG.addData(stationPath)"
   ]
  },
  {
   "cell_type": "markdown",
   "id": "ea5c52e3-e0af-47ca-bc67-f62d7ef16c83",
   "metadata": {},
   "source": [
    "## Plot Positions"
   ]
  },
  {
   "cell_type": "markdown",
   "id": "f683ac08-8f80-4cec-83a0-6077dd83a91e",
   "metadata": {},
   "source": [
    "Plot early January trajectory. "
   ]
  },
  {
   "cell_type": "code",
   "execution_count": 6,
   "id": "4bbeb63e-7a2e-4a48-aa87-69c86acb40e7",
   "metadata": {},
   "outputs": [
    {
     "name": "stdout",
     "output_type": "stream",
     "text": [
      "\n",
      "\u001b[1;31m*************************************************************************\n",
      "Error in: nisarStation._formatDate at line 333 \n",
      "Message: time data '2019-01-01' does not match format '%Y-%m-%d %H:%M:%S' \n",
      "*************************************************************************\n",
      " \u001b[0m\n",
      "\n",
      "\n",
      "\u001b[1;31m*************************************************************************\n",
      "Error in: nisarStation._formatDate at line 333 \n",
      "Message: time data '2019-01-06' does not match format '%Y-%m-%d %H:%M:%S' \n",
      "*************************************************************************\n",
      " \u001b[0m\n",
      "\n",
      "\n",
      "\u001b[1;31m**********************************************************\n",
      "Error in: nisarStation._datetimeToDecimalYear at line 473 \n",
      "Message: 'NoneType' object has no attribute 'year' \n",
      "**********************************************************\n",
      " \u001b[0m\n",
      "\n",
      "\n",
      "\u001b[1;31m**********************************************************\n",
      "Error in: nisarStation._datetimeToDecimalYear at line 473 \n",
      "Message: 'NoneType' object has no attribute 'year' \n",
      "**********************************************************\n",
      " \u001b[0m\n",
      "\n",
      "Error in: nisarcryodb.stationNameToID \n",
      "\t'nisarcryodb' object has no attribute 'cursor'\n",
      "Error in: nisarcryodb.getStationDateRangeData \n",
      "\t'nisarcryodb' object has no attribute 'cursor'\n",
      "\n",
      "\u001b[1;31m**************************************************\n",
      "Error in: nisarStation._removeOverlap at line 639 \n",
      "Message: 'NoneType' object is not subscriptable \n",
      "**************************************************\n",
      " \u001b[0m\n",
      "\n",
      "\n",
      "\u001b[1;31m************************************************\n",
      "Error in: nisarStation._subsetXYZDB at line 579 \n",
      "Message: object of type 'NoneType' has no len() \n",
      "************************************************\n",
      " \u001b[0m\n",
      "\n"
     ]
    },
    {
     "ename": "TypeError",
     "evalue": "cannot unpack non-iterable NoneType object",
     "output_type": "error",
     "traceback": [
      "\u001b[0;31m---------------------------------------------------------------------------\u001b[0m",
      "\u001b[0;31mTypeError\u001b[0m                                 Traceback (most recent call last)",
      "Cell \u001b[0;32mIn[6], line 1\u001b[0m\n\u001b[0;32m----> 1\u001b[0m date, x, y, z, epoch \u001b[38;5;241m=\u001b[39m stationLORG\u001b[38;5;241m.\u001b[39msubsetXYZ(\u001b[38;5;124m'\u001b[39m\u001b[38;5;124m2019-01-01\u001b[39m\u001b[38;5;124m'\u001b[39m, \u001b[38;5;124m'\u001b[39m\u001b[38;5;124m2019-01-06\u001b[39m\u001b[38;5;124m'\u001b[39m)\n\u001b[1;32m      2\u001b[0m resultx \u001b[38;5;241m=\u001b[39m linregress(epoch, x)\n\u001b[1;32m      3\u001b[0m resulty \u001b[38;5;241m=\u001b[39m linregress(epoch, y)\n",
      "\u001b[0;31mTypeError\u001b[0m: cannot unpack non-iterable NoneType object"
     ]
    }
   ],
   "source": [
    "date, x, y, z, epoch = stationLORG.subsetXYZ('2019-01-01', '2019-01-06')\n",
    "resultx = linregress(epoch, x)\n",
    "resulty = linregress(epoch, y)\n",
    "# Compute linear path\n",
    "xline = resultx[0] * epoch + resultx[1]\n",
    "yline = resulty[0] * epoch + resulty[1]\n",
    "#\n",
    "fig, ax = plt.subplots(1, 1, figsize=(9, 14))\n",
    "ax.plot(x -x[0], y - y[0], 'r.')\n",
    "ax.plot(xline-x[0], yline-y[0], 'k', linewidth=2)\n",
    "ax.set_xlabel('X (m)', fontsize=16)\n",
    "ax.set_ylabel('Y (m)', fontsize=16)\n",
    "ax.set_title('Station Trajectory from 2019-01-01 to 2019-01-06', fontsize=14) \n",
    "for lab  in ax.get_xticklabels() + ax.get_yticklabels():\n",
    "    lab.set_fontsize(14)"
   ]
  },
  {
   "cell_type": "markdown",
   "id": "b72695a0-5a02-4070-a1d6-d6f112ef4e18",
   "metadata": {},
   "source": [
    "## Compute and Plot Time Series"
   ]
  },
  {
   "cell_type": "markdown",
   "id": "ecc35b20-45ad-4ae3-85a6-c5a683f40cc9",
   "metadata": {},
   "source": [
    "This section demonstrates the estimate of a velocity time series over a given period. There are two methods:\n",
    "- `point`, which computes the position averaged over some interval (`averagingPeriod`)\n",
    "- `regression` this method computes the velocity of slope for all the points over the period of interest.\n",
    "\n",
    "The method is specified with the `method` keyword. Either method generates the series from `date1` to `date2`, sampled at increments of `sampleInterval` hours. Velocities are computed with a `dT` specfied in hours. Further research is needed to best determine the velocity for NISAR cal/val. In this example, the standard deviations of the velocities computed using the two methods are 0.6 and 1.7 m/yr, respectively. The differences arise because of the large diurnal variation in speed on the floating ice. The results should be much better on grounded ice. \n",
    "\n",
    "The method and period are specified as:"
   ]
  },
  {
   "cell_type": "code",
   "execution_count": null,
   "id": "8c5d438a-6ac7-489b-8782-132b31effe11",
   "metadata": {},
   "outputs": [],
   "source": [
    "#method = 'point'\n",
    "method = 'regression'\n",
    "date1 = '2019-01-01'\n",
    "date2 = '2019-03-01'"
   ]
  },
  {
   "cell_type": "markdown",
   "id": "f8f0f0cd-b941-4185-baf4-ed8c754ec899",
   "metadata": {},
   "source": [
    "Compute velocity at various intervals and over various periods."
   ]
  },
  {
   "cell_type": "code",
   "execution_count": null,
   "id": "a306d1ba-4e57-4f57-ad0c-9feb9c9e5442",
   "metadata": {},
   "outputs": [],
   "source": [
    "sampleInterval = 4  # Estimate every 4 hours\n",
    "dTsubDaily = 2  # Compute speed over a 2-hour window\n",
    "dateSubDaily, vxSubDaily, vySubDaily = stationLORG.computeVelocityTimeSeries(date1, date2, \n",
    "                                                                             dTsubDaily, sampleInterval, method=method)"
   ]
  },
  {
   "cell_type": "markdown",
   "id": "187561ee-ffb1-4824-b49b-e819a65321dd",
   "metadata": {},
   "source": [
    "Compute velocity time series at daily intervals."
   ]
  },
  {
   "cell_type": "code",
   "execution_count": null,
   "id": "b40e4ada-0ff1-495a-b58b-74089b7f58f9",
   "metadata": {},
   "outputs": [],
   "source": [
    "sampleInterval = 4 # Estimate every 4 hours\n",
    "dT = 24  # Compute over a 24 hour interval\n",
    "dateDaily, vxDaily, vyDaily = stationLORG.computeVelocityTimeSeries(date1, date2,\n",
    "                                                                    dT, sampleInterval, method=method)"
   ]
  },
  {
   "cell_type": "markdown",
   "id": "a7eaff62-bf12-4254-9d1e-22b761137808",
   "metadata": {},
   "source": [
    "Now compute at daily intervals but with delta T of 12 days."
   ]
  },
  {
   "cell_type": "code",
   "execution_count": null,
   "id": "7047e39a-dd30-4525-878d-02819b4d511b",
   "metadata": {},
   "outputs": [],
   "source": [
    "sampleInterval = 12 # Estimate every 12 hours\n",
    "dT = 24 * 12  # Compute speed over 12 day interval\n",
    "date12, vx12, vy12 = stationLORG.computeVelocityTimeSeries(date1, date2,\n",
    "                                                           dT, sampleInterval, method=method)"
   ]
  },
  {
   "cell_type": "markdown",
   "id": "20a085b3-93ce-4b91-8d74-451231e6b67e",
   "metadata": {},
   "source": [
    "Now Plot the results."
   ]
  },
  {
   "cell_type": "code",
   "execution_count": null,
   "id": "8560c536-d073-4e35-8a72-af6727a26f07",
   "metadata": {},
   "outputs": [],
   "source": [
    "fig, ax = plt.subplots(1, 1, figsize=(18, 9))\n",
    "for date, vx, vy, dTLabel, marker, linewidth in zip([dateSubDaily, dateDaily, date12],\n",
    "                                         [vxSubDaily, vxDaily, vx12], \n",
    "                                         [vySubDaily, vyDaily, vy12],\n",
    "                                         [f'dT {dTsubDaily} hours', 'dT 1 day', 'dT 12 days'], \n",
    "                                         ['-', '-', 'o'], [.5, 1, 1]):\n",
    "    ax.plot(date, vx, f'r{marker}', label=f'vx {dTLabel}', markersize=4, linewidth=linewidth)\n",
    "    ax.plot(date, vy, f'b{marker}', label=f'vy {dTLabel}', markersize=4, linewidth=linewidth)\n",
    "    ax.plot(date, np.sqrt(vx**2 + vy**2), f'k{marker}', label=f'$|v|$ {dTLabel}', markersize=4, linewidth=linewidth)\n",
    "#\n",
    "ax.set_ylabel('$v_x$, $v_y$, speed (m/yr', fontsize=18)  \n",
    "ax.set_xlabel('Date', fontsize=18)\n",
    "for lab  in ax.get_xticklabels() + ax.get_yticklabels():\n",
    "    lab.set_fontsize(14)\n",
    "ax.legend(loc='lower right', ncol=3)"
   ]
  },
  {
   "cell_type": "markdown",
   "id": "8d23c62a-5b6b-4ae4-a196-e23250a6986d",
   "metadata": {},
   "source": [
    "As the results indicate, there is there is a large diurnal variation, which some less clear semi-diurnal varation (Ross tides are largely diurnal). There are a few spikes due to spurious points, which will be cleaned after some updates to the code."
   ]
  },
  {
   "cell_type": "markdown",
   "id": "687a72cd-08a2-4988-8bda-a1f6d000ae4f",
   "metadata": {},
   "source": [
    "## Comparison With Tide Model"
   ]
  },
  {
   "cell_type": "markdown",
   "id": "6841da8d-7143-44db-b174-a48fc57e6412",
   "metadata": {},
   "source": [
    "As a quick check on the vertical data, this section compares the vertical signal with data from the CATS tidal model, which were compute elsewhere for 2019. The first step is to read the file:"
   ]
  },
  {
   "cell_type": "code",
   "execution_count": 7,
   "id": "0663ddfa-c4c4-4ca6-aa52-8ec989c4c396",
   "metadata": {},
   "outputs": [
    {
     "ename": "FileNotFoundError",
     "evalue": "[Errno 2] No such file or directory: 'LORG/LORG.tide.2019'",
     "output_type": "error",
     "traceback": [
      "\u001b[0;31m---------------------------------------------------------------------------\u001b[0m",
      "\u001b[0;31mFileNotFoundError\u001b[0m                         Traceback (most recent call last)",
      "Cell \u001b[0;32mIn[7], line 7\u001b[0m\n\u001b[1;32m      5\u001b[0m     \u001b[38;5;28;01mreturn\u001b[39;00m datetime(year, \u001b[38;5;241m1\u001b[39m, \u001b[38;5;241m1\u001b[39m, \u001b[38;5;241m0\u001b[39m, \u001b[38;5;241m0\u001b[39m, \u001b[38;5;241m0\u001b[39m) \u001b[38;5;241m+\u001b[39m timedelta(seconds\u001b[38;5;241m=\u001b[39msec)\n\u001b[1;32m      6\u001b[0m \u001b[38;5;66;03m#\u001b[39;00m\n\u001b[0;32m----> 7\u001b[0m \u001b[38;5;28;01mwith\u001b[39;00m \u001b[38;5;28;43mopen\u001b[39;49m\u001b[43m(\u001b[49m\u001b[38;5;124;43m'\u001b[39;49m\u001b[38;5;124;43mLORG/LORG.tide.2019\u001b[39;49m\u001b[38;5;124;43m'\u001b[39;49m\u001b[43m)\u001b[49m \u001b[38;5;28;01mas\u001b[39;00m fp:\n\u001b[1;32m      8\u001b[0m     tTide, zTide \u001b[38;5;241m=\u001b[39m np\u001b[38;5;241m.\u001b[39mtranspose([[\u001b[38;5;28mfloat\u001b[39m(x) \u001b[38;5;28;01mfor\u001b[39;00m x \u001b[38;5;129;01min\u001b[39;00m line\u001b[38;5;241m.\u001b[39msplit()] \u001b[38;5;28;01mfor\u001b[39;00m line \u001b[38;5;129;01min\u001b[39;00m fp])\n\u001b[1;32m      9\u001b[0m \u001b[38;5;66;03m#\u001b[39;00m\n",
      "File \u001b[0;32m/opt/conda/lib/python3.12/site-packages/IPython/core/interactiveshell.py:308\u001b[0m, in \u001b[0;36m_modified_open\u001b[0;34m(file, *args, **kwargs)\u001b[0m\n\u001b[1;32m    301\u001b[0m \u001b[38;5;28;01mif\u001b[39;00m file \u001b[38;5;129;01min\u001b[39;00m {\u001b[38;5;241m0\u001b[39m, \u001b[38;5;241m1\u001b[39m, \u001b[38;5;241m2\u001b[39m}:\n\u001b[1;32m    302\u001b[0m     \u001b[38;5;28;01mraise\u001b[39;00m \u001b[38;5;167;01mValueError\u001b[39;00m(\n\u001b[1;32m    303\u001b[0m         \u001b[38;5;124mf\u001b[39m\u001b[38;5;124m\"\u001b[39m\u001b[38;5;124mIPython won\u001b[39m\u001b[38;5;124m'\u001b[39m\u001b[38;5;124mt let you open fd=\u001b[39m\u001b[38;5;132;01m{\u001b[39;00mfile\u001b[38;5;132;01m}\u001b[39;00m\u001b[38;5;124m by default \u001b[39m\u001b[38;5;124m\"\u001b[39m\n\u001b[1;32m    304\u001b[0m         \u001b[38;5;124m\"\u001b[39m\u001b[38;5;124mas it is likely to crash IPython. If you know what you are doing, \u001b[39m\u001b[38;5;124m\"\u001b[39m\n\u001b[1;32m    305\u001b[0m         \u001b[38;5;124m\"\u001b[39m\u001b[38;5;124myou can use builtins\u001b[39m\u001b[38;5;124m'\u001b[39m\u001b[38;5;124m open.\u001b[39m\u001b[38;5;124m\"\u001b[39m\n\u001b[1;32m    306\u001b[0m     )\n\u001b[0;32m--> 308\u001b[0m \u001b[38;5;28;01mreturn\u001b[39;00m \u001b[43mio_open\u001b[49m\u001b[43m(\u001b[49m\u001b[43mfile\u001b[49m\u001b[43m,\u001b[49m\u001b[43m \u001b[49m\u001b[38;5;241;43m*\u001b[39;49m\u001b[43margs\u001b[49m\u001b[43m,\u001b[49m\u001b[43m \u001b[49m\u001b[38;5;241;43m*\u001b[39;49m\u001b[38;5;241;43m*\u001b[39;49m\u001b[43mkwargs\u001b[49m\u001b[43m)\u001b[49m\n",
      "\u001b[0;31mFileNotFoundError\u001b[0m: [Errno 2] No such file or directory: 'LORG/LORG.tide.2019'"
     ]
    }
   ],
   "source": [
    "def decDateToDatetime(decDate):\n",
    "    year = int(decDate)\n",
    "    sec = np.rint((decDate - year) *\n",
    "                          (365 + int(calendar.isleap(year))) * 86400)\n",
    "    return datetime(year, 1, 1, 0, 0, 0) + timedelta(seconds=sec)\n",
    "#\n",
    "with open('LORG/LORG.tide.2019') as fp:\n",
    "    tTide, zTide = np.transpose([[float(x) for x in line.split()] for line in fp])\n",
    "#\n",
    "    dateTide = [decDateToDatetime(x) for x in tTide]"
   ]
  },
  {
   "cell_type": "markdown",
   "id": "5fb08600-91b1-4387-8b8d-9a0cdf935e94",
   "metadata": {},
   "source": [
    "Now plot the result. "
   ]
  },
  {
   "cell_type": "code",
   "execution_count": 8,
   "id": "c09914d7-77b6-4873-bc88-8bdca809a7ee",
   "metadata": {},
   "outputs": [
    {
     "name": "stderr",
     "output_type": "stream",
     "text": [
      "/opt/conda/lib/python3.12/site-packages/numpy/core/fromnumeric.py:3504: RuntimeWarning: Mean of empty slice.\n",
      "  return _methods._mean(a, axis=axis, dtype=dtype,\n",
      "/opt/conda/lib/python3.12/site-packages/numpy/core/_methods.py:129: RuntimeWarning: invalid value encountered in scalar divide\n",
      "  ret = ret.dtype.type(ret / rcount)\n"
     ]
    },
    {
     "ename": "NameError",
     "evalue": "name 'dateTide' is not defined",
     "output_type": "error",
     "traceback": [
      "\u001b[0;31m---------------------------------------------------------------------------\u001b[0m",
      "\u001b[0;31mNameError\u001b[0m                                 Traceback (most recent call last)",
      "Cell \u001b[0;32mIn[8], line 4\u001b[0m\n\u001b[1;32m      2\u001b[0m \u001b[38;5;66;03m# Plot GPS and tide\u001b[39;00m\n\u001b[1;32m      3\u001b[0m axes[\u001b[38;5;241m0\u001b[39m]\u001b[38;5;241m.\u001b[39mplot(stationLORG\u001b[38;5;241m.\u001b[39mdate, stationLORG\u001b[38;5;241m.\u001b[39mz \u001b[38;5;241m-\u001b[39m np\u001b[38;5;241m.\u001b[39mmean(stationLORG\u001b[38;5;241m.\u001b[39mz), label\u001b[38;5;241m=\u001b[39m\u001b[38;5;124m'\u001b[39m\u001b[38;5;124mTide Model\u001b[39m\u001b[38;5;124m'\u001b[39m)\n\u001b[0;32m----> 4\u001b[0m axes[\u001b[38;5;241m0\u001b[39m]\u001b[38;5;241m.\u001b[39mplot(\u001b[43mdateTide\u001b[49m, zTide, label\u001b[38;5;241m=\u001b[39m\u001b[38;5;124m'\u001b[39m\u001b[38;5;124mGPS\u001b[39m\u001b[38;5;124m'\u001b[39m)\n\u001b[1;32m      5\u001b[0m \u001b[38;5;66;03m# Plot the difference. Interpolate to get on same time grid.\u001b[39;00m\n\u001b[1;32m      6\u001b[0m tDiff \u001b[38;5;241m=\u001b[39m stationLORG\u001b[38;5;241m.\u001b[39mz \u001b[38;5;241m-\u001b[39m np\u001b[38;5;241m.\u001b[39mmean(stationLORG\u001b[38;5;241m.\u001b[39mz) \u001b[38;5;241m-\u001b[39m np\u001b[38;5;241m.\u001b[39minterp(stationLORG\u001b[38;5;241m.\u001b[39mepoch, tTide, zTide)\n",
      "\u001b[0;31mNameError\u001b[0m: name 'dateTide' is not defined"
     ]
    },
    {
     "data": {
      "image/png": "[encoded data removed]",
      "text/plain": [
       "<Figure size 1800x900 with 2 Axes>"
      ]
     },
     "metadata": {},
     "output_type": "display_data"
    }
   ],
   "source": [
    "fig, axes = plt.subplots(2, 1, figsize=(18, 9))\n",
    "# Plot GPS and tide\n",
    "axes[0].plot(stationLORG.date, stationLORG.z - np.mean(stationLORG.z), label='Tide Model')\n",
    "axes[0].plot(dateTide, zTide, label='GPS')\n",
    "# Plot the difference. Interpolate to get on same time grid.\n",
    "tDiff = stationLORG.z - np.mean(stationLORG.z) - np.interp(stationLORG.epoch, tTide, zTide)\n",
    "axes[1].plot(stationLORG.date, tDiff, 'r.', markersize=1)\n",
    "#\n",
    "for ax, limits in zip(axes, [(-1, 1), (-0.5, 0.5)]):\n",
    "    ax.set_xlim(datetime(2019, 1, 1), datetime(2019, 3, 1))\n",
    "    ax.set_ylim(*limits)\n",
    "    for lab  in ax.get_xticklabels() + ax.get_yticklabels():\n",
    "        lab.set_fontsize(14)\n",
    "    ax.set_xlabel('Date', fontsize=16)"
   ]
  },
  {
   "cell_type": "markdown",
   "id": "e9564298-eea4-406e-bf2b-557b1238ecfc",
   "metadata": {},
   "source": [
    "Overall the agreement is pretty good. Some of the short term variation may be model error and the longer term stuff is roughly consistent with what might be expacted from the inverse barometer effect (IBE)"
   ]
  },
  {
   "cell_type": "code",
   "execution_count": null,
   "id": "f4fca876-79c2-4fe1-98c0-76528501faf2",
   "metadata": {},
   "outputs": [],
   "source": []
  },
  {
   "cell_type": "code",
   "execution_count": null,
   "id": "96691b02-284c-4ed2-b9a5-b589ac322421",
   "metadata": {},
   "outputs": [],
   "source": []
  }
 ],
 "metadata": {
  "kernelspec": {
   "display_name": "base",
   "language": "python",
   "name": "base"
  },
  "language_info": {
   "codemirror_mode": {
    "name": "ipython",
    "version": 3
   },
   "file_extension": ".py",
   "mimetype": "text/x-python",
   "name": "python",
   "nbconvert_exporter": "python",
   "pygments_lexer": "ipython3",
   "version": "3.12.2"
  }
 },
 "nbformat": 4,
 "nbformat_minor": 5
}
